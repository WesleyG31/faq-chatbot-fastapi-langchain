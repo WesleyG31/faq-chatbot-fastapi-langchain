{
 "cells": [
  {
   "cell_type": "code",
   "execution_count": null,
   "metadata": {},
   "outputs": [],
   "source": [
    "#%pip install chromadb sentence-transformers"
   ]
  },
  {
   "cell_type": "code",
   "execution_count": 11,
   "metadata": {},
   "outputs": [
    {
     "name": "stdout",
     "output_type": "stream",
     "text": [
      "🔹 Registros actuales en ChromaDB: 0\n",
      "Total de registros en ChromaDB: 79\n"
     ]
    }
   ],
   "source": [
    "import json\n",
    "import chromadb\n",
    "from sentence_transformers import SentenceTransformer\n",
    "from langchain_huggingface import HuggingFaceEmbeddings\n",
    "import torch\n",
    "\n",
    "# Variables\n",
    "file_path=\"Ecommerce_FAQ_Chatbot_dataset.json\"\n",
    "device = \"cuda\" if torch.cuda.is_available() else \"cpu\"\n",
    "#embedding_model = SentenceTransformer(\"sentence-transformers/all-MiniLM-L6-v2\") # Embedding model\n",
    "embedding_model = HuggingFaceEmbeddings(model_name=\"BAAI/bge-large-en\",model_kwargs={\"device\": device})\n",
    "#embedding_model = HuggingFaceEmbeddings(model_name=\"sentence-transformers/all-MiniLM-L6-v2\",model_kwargs={\"device\": \"cuda\"})\n",
    "#embedding_model = HuggingFaceEmbeddings(model_name=\"intfloat/e5-mistral-7b-instruct\",model_kwargs={\"device\": \"cuda\"})\n",
    "\n",
    "\n",
    "# 📌 Load_dataset\n",
    "def load_dataset(file_path):\n",
    "    with open(file_path, \"r\", encoding=\"utf-8\") as file:\n",
    "        return json.load(file).get(\"questions\", [])\n",
    "\n",
    "# 📌 Embedding model and vector_db\n",
    "def initialize_resources():\n",
    "    db_client = chromadb.PersistentClient(path=\"chroma_db\")\n",
    "    db_client.delete_collection(name=\"faq_ecommerce\")  # Elimina la colección existente\n",
    "    collection = db_client.get_or_create_collection(name=\"faq_ecommerce\")\n",
    "    return collection\n",
    "\n",
    "# 📌 Store questions and answers\n",
    "def store_in_chromadb(collection, qa_pairs, model):\n",
    "    if not qa_pairs:\n",
    "        print(\"No se encontraron preguntas en el archivo JSON.\")\n",
    "        return\n",
    "    \n",
    "    existing_records = collection.count()\n",
    "    print(f\"🔹 Registros actuales en ChromaDB: {existing_records}\")\n",
    "\n",
    "\n",
    "    questions = [item.get(\"question\", \"\") for item in qa_pairs]\n",
    "    answers = [item.get(\"answer\", \"\") for item in qa_pairs]\n",
    "    #embeddings = model.encode(questions, convert_to_numpy=True).tolist()\n",
    "    embeddings = model.embed_documents(questions)\n",
    "    \n",
    "    #collection.delete(ids=[str(i) for i in range(collection.count())])\n",
    "\n",
    "    collection.add(\n",
    "        ids=[str(i) for i in range(len(questions))],\n",
    "        embeddings=embeddings,\n",
    "        metadatas=[{\"question\": q, \"answer\": a} for q, a in zip(questions, answers)]\n",
    "    )\n",
    "    print(f\"Total de registros en ChromaDB: {collection.count()}\")\n",
    "\n",
    "\n",
    "qa_pairs = load_dataset(file_path)\n",
    "faq_collection = initialize_resources()\n",
    "store_in_chromadb(faq_collection, qa_pairs, embedding_model)"
   ]
  },
  {
   "cell_type": "code",
   "execution_count": null,
   "metadata": {},
   "outputs": [
    {
     "ename": "",
     "evalue": "",
     "output_type": "error",
     "traceback": [
      "\u001b[1;31mnotebook controller is DISPOSED. \n",
      "\u001b[1;31mView Jupyter <a href='command:jupyter.viewOutput'>log</a> for further details."
     ]
    }
   ],
   "source": [
    "# 📌 Search answers in ChromaDB\n",
    "def search_faq(collection, query, model, top_k=1):\n",
    "    query_embedding = model.encode(query, convert_to_numpy=True).tolist()\n",
    "    \n",
    "    results = collection.query(\n",
    "        query_embeddings=[query_embedding],\n",
    "        n_results=top_k\n",
    "    )\n",
    "    \n",
    "    if results[\"ids\"]:\n",
    "        best_match = results[\"metadatas\"][0][0]  # Get the top result\n",
    "        #print(results[\"metadatas\"][0][0])\n",
    "        return best_match[\"answer\"]\n",
    "    else:\n",
    "        return \"Sorry, I couldn't find an answer to your question.\"\n",
    "\n",
    "# Get Variables\n",
    "#faq_collection = initialize_resources()\n"
   ]
  },
  {
   "cell_type": "code",
   "execution_count": 4,
   "metadata": {},
   "outputs": [
    {
     "name": "stdout",
     "output_type": "stream",
     "text": [
      "Chatbot: Wesley es el creado de este bot, pero no puedo proporcionar su numero de telefono\n"
     ]
    }
   ],
   "source": [
    "# 📌 Chatbot\n",
    "def chat():\n",
    "    while True:\n",
    "        user_query = input(\"Ask me a question (or type 'exit' to quit): \")\n",
    "        if user_query.lower() == \"exit\":\n",
    "            break\n",
    "        \n",
    "        response = search_faq(faq_collection, user_query, embedding_model)\n",
    "        print(\"Chatbot:\", response)\n",
    "\n",
    "\n",
    "# Ejecutar el chat\n",
    "if __name__ == \"__main__\":\n",
    "    chat()"
   ]
  },
  {
   "cell_type": "code",
   "execution_count": null,
   "metadata": {},
   "outputs": [],
   "source": []
  }
 ],
 "metadata": {
  "kernelspec": {
   "display_name": "Python 3",
   "language": "python",
   "name": "python3"
  },
  "language_info": {
   "codemirror_mode": {
    "name": "ipython",
    "version": 3
   },
   "file_extension": ".py",
   "mimetype": "text/x-python",
   "name": "python",
   "nbconvert_exporter": "python",
   "pygments_lexer": "ipython3",
   "version": "3.10.0"
  }
 },
 "nbformat": 4,
 "nbformat_minor": 2
}
