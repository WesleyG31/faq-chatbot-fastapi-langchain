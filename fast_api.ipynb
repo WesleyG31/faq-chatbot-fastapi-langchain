{
 "cells": [
  {
   "cell_type": "code",
   "execution_count": null,
   "metadata": {},
   "outputs": [],
   "source": [
    "#%pip install fastapi uvicorn pydantic langchain langchain_experimental langchain_huggingface langchain_ollama chromadb langchain_community"
   ]
  },
  {
   "cell_type": "code",
   "execution_count": null,
   "metadata": {},
   "outputs": [],
   "source": [
    "from fastapi import FastAPI\n",
    "import chromadb\n",
    "from sentence_transformers import SentenceTransformer\n",
    "from pydantic import BaseModel\n",
    "\n",
    "# 📌 Init FastApi\n",
    "app = FastAPI()\n",
    "\n",
    "# 📌 Embedding Model that we have created before\n",
    "embedding_model = SentenceTransformer(\"sentence-transformers/all-MiniLM-L6-v2\")\n",
    "\n",
    "# 📌 Init ChromaDB / Read the vector_db\n",
    "chroma_client = chromadb.PersistentClient(path=\"chroma_db\")\n",
    "faq_collection = chroma_client.get_or_create_collection(name=\"faq_ecommerce\")\n",
    "\n",
    "# 📌 API will get a JSON with \"question\"\n",
    "class QueryRequest(BaseModel):\n",
    "    question: str\n",
    "\n",
    "# 📌 Función de búsqueda en ChromaDB\n",
    "def search_faq(query, top_k=1):\n",
    "    query_embedding = embedding_model.encode(query, convert_to_numpy=True).tolist()\n",
    "    results = faq_collection.query(\n",
    "        query_embeddings=[query_embedding],\n",
    "        n_results=top_k\n",
    "    )\n",
    "\n",
    "    if results[\"ids\"]:\n",
    "        best_match = results[\"metadatas\"][0][0]  # Extrae la mejor coincidencia\n",
    "        return {\"answer\": best_match[\"answer\"]}\n",
    "    else:\n",
    "        return {\"answer\": \"Sorry, I couldn't find an answer to your question.\"}\n",
    "\n",
    "# 📌 Endpoint para recibir preguntas\n",
    "@app.post(\"/ask\")\n",
    "def ask_question(request: QueryRequest):\n",
    "    return search_faq(request.question)\n",
    "\n",
    "# 📌 Endpoint de prueba\n",
    "@app.get(\"/\")\n",
    "def home():\n",
    "    return {\"message\": \"E-commerce FAQ Chatbot API is running!\"}\n"
   ]
  }
 ],
 "metadata": {
  "kernelspec": {
   "display_name": "Python 3",
   "language": "python",
   "name": "python3"
  },
  "language_info": {
   "codemirror_mode": {
    "name": "ipython",
    "version": 3
   },
   "file_extension": ".py",
   "mimetype": "text/x-python",
   "name": "python",
   "nbconvert_exporter": "python",
   "pygments_lexer": "ipython3",
   "version": "3.10.0"
  }
 },
 "nbformat": 4,
 "nbformat_minor": 2
}
