{
 "cells": [
  {
   "cell_type": "code",
   "execution_count": null,
   "metadata": {},
   "outputs": [],
   "source": [
    "#%pip install nltk"
   ]
  },
  {
   "cell_type": "code",
   "execution_count": null,
   "metadata": {},
   "outputs": [
    {
     "name": "stdout",
     "output_type": "stream",
     "text": [
      "🔹 Question: How can I create an account?\n",
      "✅ Expected Answer: To create an account, click on the 'Sign Up' button on the top right corner of our website and follow the instructions to complete the registration process.\n",
      "🤖 Generated Answer: \"To create an account on our website, follow these steps:  1. Click on \\\"Mi cuenta\\\" (My Account) at the top right corner of the page. 2. Select \\\"Crear cuenta\\\" (Create Account). 3. Fill in your information, including name, email address, and password. 4. Review and agree to our terms and conditions. 5. Submit your application.  Please note that you will receive an email to verify your account after creating it.\"\n",
      "📊 BLEU Score: 0.0661 | Cosine Similarity: 0.7194\n",
      "--------------------------------------------------------------------------------\n"
     ]
    },
    {
     "name": "stderr",
     "output_type": "stream",
     "text": [
      "c:\\Users\\wesgb\\.conda\\envs\\chatbot_nlp_rag\\lib\\site-packages\\nltk\\translate\\bleu_score.py:577: UserWarning: \n",
      "The hypothesis contains 0 counts of 3-gram overlaps.\n",
      "Therefore the BLEU score evaluates to 0, independently of\n",
      "how many N-gram overlaps of lower order it contains.\n",
      "Consider using lower n-gram order or use SmoothingFunction()\n",
      "  warnings.warn(_msg)\n",
      "c:\\Users\\wesgb\\.conda\\envs\\chatbot_nlp_rag\\lib\\site-packages\\nltk\\translate\\bleu_score.py:577: UserWarning: \n",
      "The hypothesis contains 0 counts of 4-gram overlaps.\n",
      "Therefore the BLEU score evaluates to 0, independently of\n",
      "how many N-gram overlaps of lower order it contains.\n",
      "Consider using lower n-gram order or use SmoothingFunction()\n",
      "  warnings.warn(_msg)\n"
     ]
    },
    {
     "name": "stdout",
     "output_type": "stream",
     "text": [
      "🔹 Question: What payment methods do you accept?\n",
      "✅ Expected Answer: We accept major credit cards, debit cards, and PayPal as payment methods for online orders.\n",
      "🤖 Generated Answer: \"We accept various payment methods to ensure your shopping experience is convenient and seamless. Our accepted payment methods include:  - Credit cards (Visa, Mastercard, American Express) - Debit cards - PayPal - Bank transfer (for select countries)  Please note that availability of certain payment options may vary depending on your location. If you have any specific questions or concerns about payment, feel free to ask!\"\n",
      "📊 BLEU Score: 0.0000 | Cosine Similarity: 0.7768\n",
      "--------------------------------------------------------------------------------\n"
     ]
    },
    {
     "name": "stderr",
     "output_type": "stream",
     "text": [
      "c:\\Users\\wesgb\\.conda\\envs\\chatbot_nlp_rag\\lib\\site-packages\\nltk\\translate\\bleu_score.py:577: UserWarning: \n",
      "The hypothesis contains 0 counts of 3-gram overlaps.\n",
      "Therefore the BLEU score evaluates to 0, independently of\n",
      "how many N-gram overlaps of lower order it contains.\n",
      "Consider using lower n-gram order or use SmoothingFunction()\n",
      "  warnings.warn(_msg)\n",
      "c:\\Users\\wesgb\\.conda\\envs\\chatbot_nlp_rag\\lib\\site-packages\\nltk\\translate\\bleu_score.py:577: UserWarning: \n",
      "The hypothesis contains 0 counts of 4-gram overlaps.\n",
      "Therefore the BLEU score evaluates to 0, independently of\n",
      "how many N-gram overlaps of lower order it contains.\n",
      "Consider using lower n-gram order or use SmoothingFunction()\n",
      "  warnings.warn(_msg)\n"
     ]
    },
    {
     "name": "stdout",
     "output_type": "stream",
     "text": [
      "🔹 Question: How can I track my order?\n",
      "✅ Expected Answer: You can track your order by logging into your account and navigating to the 'Order History' section. There, you will find the tracking information for your shipment.\n",
      "🤖 Generated Answer: \"To track your order, please follow these steps:  1. Log in to your account on our website. 2. Click on \\\"Orders\\\" or \\\"My Account\\\" (this may vary depending on our website's design). 3. Locate the order you wish to track and click on it. 4. Look for a tracking number or a link that says \\\"Track Order.\\\" 5. Enter the tracking number in the provided field, usually starting with \\\"RKP-\\\" or \\\"TNT-\\\".  If you're unable to find your tracking information, please contact our customer service team and we'll be happy to assist you.  (If the question is in Spanish, my answer will be in Spanish as well.)\"\n",
      "📊 BLEU Score: 0.0000 | Cosine Similarity: 0.7978\n",
      "--------------------------------------------------------------------------------\n",
      "🔹 Question: What is your return policy?\n",
      "✅ Expected Answer: Our return policy allows you to return products within 30 days of purchase for a full refund, provided they are in their original condition and packaging. Please refer to our Returns page for detailed instructions.\n",
      "🤖 Generated Answer: \"Our return policy allows customers to initiate returns within 30 days of delivery. Items must be in their original condition with all tags and packaging intact. To start a return, please contact our customer service team via email or phone, providing the order number and reason for return. Once approved, we'll guide you through the next steps.  (Note: I'm ready to answer more questions!)\"\n",
      "📊 BLEU Score: 0.0986 | Cosine Similarity: 0.8592\n",
      "--------------------------------------------------------------------------------\n",
      "🔹 Question: Can I cancel my order?\n",
      "✅ Expected Answer: You can cancel your order if it has not been shipped yet. Please contact our customer support team with your order details, and we will assist you with the cancellation process.\n",
      "🤖 Generated Answer: \"You can cancel your order at any time before it ships. Please contact our customer service team as soon as possible so we can assist you with cancelling or making changes to your order. We'll do our best to accommodate your request if the order has not yet been processed.  If you have already placed an order and need assistance, please reply with your order number for a faster resolution.\"\n",
      "📊 BLEU Score: 0.1084 | Cosine Similarity: 0.9010\n",
      "--------------------------------------------------------------------------------\n"
     ]
    },
    {
     "name": "stderr",
     "output_type": "stream",
     "text": [
      "c:\\Users\\wesgb\\.conda\\envs\\chatbot_nlp_rag\\lib\\site-packages\\nltk\\translate\\bleu_score.py:577: UserWarning: \n",
      "The hypothesis contains 0 counts of 2-gram overlaps.\n",
      "Therefore the BLEU score evaluates to 0, independently of\n",
      "how many N-gram overlaps of lower order it contains.\n",
      "Consider using lower n-gram order or use SmoothingFunction()\n",
      "  warnings.warn(_msg)\n",
      "c:\\Users\\wesgb\\.conda\\envs\\chatbot_nlp_rag\\lib\\site-packages\\nltk\\translate\\bleu_score.py:577: UserWarning: \n",
      "The hypothesis contains 0 counts of 3-gram overlaps.\n",
      "Therefore the BLEU score evaluates to 0, independently of\n",
      "how many N-gram overlaps of lower order it contains.\n",
      "Consider using lower n-gram order or use SmoothingFunction()\n",
      "  warnings.warn(_msg)\n",
      "c:\\Users\\wesgb\\.conda\\envs\\chatbot_nlp_rag\\lib\\site-packages\\nltk\\translate\\bleu_score.py:577: UserWarning: \n",
      "The hypothesis contains 0 counts of 4-gram overlaps.\n",
      "Therefore the BLEU score evaluates to 0, independently of\n",
      "how many N-gram overlaps of lower order it contains.\n",
      "Consider using lower n-gram order or use SmoothingFunction()\n",
      "  warnings.warn(_msg)\n"
     ]
    },
    {
     "name": "stdout",
     "output_type": "stream",
     "text": [
      "🔹 Question: How long does shipping take?\n",
      "✅ Expected Answer: Shipping times vary depending on the destination and the shipping method chosen. Standard shipping usually takes 3-5 business days, while express shipping can take 1-2 business days.\n",
      "🤖 Generated Answer: \"We ship orders within 24-48 hours of receipt and typically arrive within 3-7 business days for domestic orders and 10-15 business days for international orders. Please note that delivery times may vary due to circumstances beyond our control, such as weather or customs delays. If you have a specific question about your order's status, please feel free to contact us directly.\"\n",
      "📊 BLEU Score: 0.0000 | Cosine Similarity: 0.8170\n",
      "--------------------------------------------------------------------------------\n"
     ]
    },
    {
     "name": "stderr",
     "output_type": "stream",
     "text": [
      "c:\\Users\\wesgb\\.conda\\envs\\chatbot_nlp_rag\\lib\\site-packages\\nltk\\translate\\bleu_score.py:577: UserWarning: \n",
      "The hypothesis contains 0 counts of 3-gram overlaps.\n",
      "Therefore the BLEU score evaluates to 0, independently of\n",
      "how many N-gram overlaps of lower order it contains.\n",
      "Consider using lower n-gram order or use SmoothingFunction()\n",
      "  warnings.warn(_msg)\n",
      "c:\\Users\\wesgb\\.conda\\envs\\chatbot_nlp_rag\\lib\\site-packages\\nltk\\translate\\bleu_score.py:577: UserWarning: \n",
      "The hypothesis contains 0 counts of 4-gram overlaps.\n",
      "Therefore the BLEU score evaluates to 0, independently of\n",
      "how many N-gram overlaps of lower order it contains.\n",
      "Consider using lower n-gram order or use SmoothingFunction()\n",
      "  warnings.warn(_msg)\n"
     ]
    },
    {
     "name": "stdout",
     "output_type": "stream",
     "text": [
      "🔹 Question: Do you offer international shipping?\n",
      "✅ Expected Answer: Yes, we offer international shipping to select countries. The availability and shipping costs will be calculated during the checkout process based on your location.\n",
      "🤖 Generated Answer: \"Yes, we do offer international shipping. Our website is accessible worldwide and we ship to most countries. However, please note that some items may not be available for international shipping due to size or weight restrictions, and delivery times may vary depending on the destination country.  If you're interested in purchasing an item that's eligible for international shipping, simply proceed with your order as normal and we'll take care of the rest. We'll provide you with tracking information so you can stay up-to-date on the status of your shipment.\"\n",
      "📊 BLEU Score: 0.0000 | Cosine Similarity: 0.8374\n",
      "--------------------------------------------------------------------------------\n",
      "🔹 Question: What should I do if my package is lost or damaged?\n",
      "✅ Expected Answer: If your package is lost or damaged during transit, please contact our customer support team immediately. We will initiate an investigation and take the necessary steps to resolve the issue.\n",
      "🤖 Generated Answer: \"If your package is lost or damaged, please contact our customer service team as soon as possible. We will initiate an investigation and work with you to resolve the issue. You can reach us through email at [support@companyemail.com](mailto:support@companyemail.com) or by phone at 1-800-SUPPORT (1-800-787-8686). Please have your order number handy for a faster resolution.\"\n",
      "📊 BLEU Score: 0.2349 | Cosine Similarity: 0.8146\n",
      "--------------------------------------------------------------------------------\n",
      "🔹 Question: Can I change my shipping address after placing an order?\n",
      "✅ Expected Answer: If you need to change your shipping address, please contact our customer support team as soon as possible. We will do our best to update the address if the order has not been shipped yet.\n",
      "🤖 Generated Answer: \"Yes, you can change your shipping address after placing an order. Please contact our customer service team as soon as possible so we can make the necessary changes before processing your order. You can reach us by phone at [phone number], email at [email address], or through our website's contact form.  (Note: If I receive a question in Spanish, my response will be in Spanish)\"\n",
      "📊 BLEU Score: 0.0725 | Cosine Similarity: 0.7684\n",
      "--------------------------------------------------------------------------------\n",
      "🔹 Question: How can I contact customer support?\n",
      "✅ Expected Answer: You can contact our customer support team by phone at [phone number] or by email at [email address]. Our team is available [working hours] to assist you with any inquiries or issues you may have.\n",
      "🤖 Generated Answer: \"You can contact our customer support team through several channels:  * Phone: You can call us at 1-800-SUPPORT (1-800-788-7678) from Monday to Friday, 9am to 5pm EST. * Email: Send an email to [support@yourcompany.com](mailto:support@yourcompany.com) and we'll get back to you within 24 hours. * Live Chat: You can also contact us through our website's live chat feature, available Monday to Friday, 9am to 5pm EST. * Contact Form: If none of the above options work for you, you can fill out our contact form on our website and we'll be in touch as soon as possible.  We're here to help!\"\n",
      "📊 BLEU Score: 0.0562 | Cosine Similarity: 0.8006\n",
      "--------------------------------------------------------------------------------\n",
      "📌 Average BLEU Score: 0.0637\n",
      "📌 Average Cosine Similarity: 0.8092\n"
     ]
    }
   ],
   "source": [
    "import json\n",
    "import requests\n",
    "from sentence_transformers import SentenceTransformer\n",
    "from sklearn.metrics.pairwise import cosine_similarity\n",
    "from nltk.translate.bleu_score import sentence_bleu\n",
    "from langchain_huggingface import HuggingFaceEmbeddings\n",
    "import numpy as np\n",
    "\n",
    "\n",
    "# 📌 Cargar dataset original\n",
    "file_path = \"Ecommerce_FAQ_Chatbot_dataset.json\"\n",
    "with open(file_path, \"r\", encoding=\"utf-8\") as file:\n",
    "    dataset = json.load(file)[\"questions\"]\n",
    "\n",
    "# 📌 Cargar modelo de embeddings para evaluar similitud semántica\n",
    "#embedding_model = SentenceTransformer(\"sentence-transformers/all-MiniLM-L6-v2\")\n",
    "embedding_model = HuggingFaceEmbeddings(model_name=\"BAAI/bge-large-en\",model_kwargs={\"device\": \"cuda\"})\n",
    "\n",
    "# 📌 API del chatbot (debe estar corriendo)\n",
    "API_URL = \"http://127.0.0.1:8000/ask\"\n",
    "\n",
    "# 📌 Evaluar chatbot en preguntas del dataset\n",
    "total_bleu, total_cosine = 0, 0\n",
    "num_samples = 10  # Número de preguntas para la evaluación\n",
    "\n",
    "for sample in dataset[:num_samples]:  # Usamos solo algunas preguntas para prueba\n",
    "    question = sample[\"question\"]\n",
    "    expected_answer = sample[\"answer\"]\n",
    "\n",
    "    # 📌 Enviar pregunta al chatbot\n",
    "    response = requests.post(API_URL, json={\"question\": question})\n",
    "    generated_answer = response.text if response.status_code == 200 else \"\"\n",
    "\n",
    "    # 📌 Calcular BLEU Score\n",
    "    bleu_score = sentence_bleu([expected_answer.split()], generated_answer.split())\n",
    "\n",
    "    # 📌 Calcular Cosine Similarity con `embed_query()`\n",
    "    expected_embedding = embedding_model.embed_query(expected_answer)\n",
    "    generated_embedding = embedding_model.embed_query(generated_answer)\n",
    "\n",
    "    # Convertir a formato numpy (LangChain devuelve listas)\n",
    "    expected_embedding = np.array(expected_embedding).reshape(1, -1)\n",
    "    generated_embedding = np.array(generated_embedding).reshape(1, -1)\n",
    "\n",
    "    cosine_score = cosine_similarity(expected_embedding, generated_embedding)[0][0]\n",
    "\n",
    "    total_bleu += bleu_score\n",
    "    total_cosine += cosine_score\n",
    "\n",
    "    # 📌 Mostrar resultados para cada pregunta\n",
    "    print(f\"🔹 Question: {question}\")\n",
    "    print(f\"✅ Expected Answer: {expected_answer}\")\n",
    "    print(f\"🤖 Generated Answer: {generated_answer}\")\n",
    "    print(f\"📊 BLEU Score: {bleu_score:.4f} | Cosine Similarity: {cosine_score:.4f}\")\n",
    "    print(\"-\" * 80)\n",
    "\n",
    "# 📌 Calcular métricas promedio\n",
    "avg_bleu = total_bleu / num_samples\n",
    "avg_cosine = total_cosine / num_samples\n",
    "print(f\"📌 Average BLEU Score: {avg_bleu:.4f}\")\n",
    "print(f\"📌 Average Cosine Similarity: {avg_cosine:.4f}\")\n"
   ]
  },
  {
   "cell_type": "code",
   "execution_count": null,
   "metadata": {},
   "outputs": [],
   "source": []
  }
 ],
 "metadata": {
  "kernelspec": {
   "display_name": "Python 3",
   "language": "python",
   "name": "python3"
  },
  "language_info": {
   "codemirror_mode": {
    "name": "ipython",
    "version": 3
   },
   "file_extension": ".py",
   "mimetype": "text/x-python",
   "name": "python",
   "nbconvert_exporter": "python",
   "pygments_lexer": "ipython3",
   "version": "3.10.0"
  }
 },
 "nbformat": 4,
 "nbformat_minor": 2
}
